{
  "nbformat": 4,
  "nbformat_minor": 0,
  "metadata": {
    "colab": {
      "provenance": [],
      "include_colab_link": true
    },
    "kernelspec": {
      "name": "python3",
      "display_name": "Python 3"
    },
    "language_info": {
      "name": "python"
    }
  },
  "cells": [
    {
      "cell_type": "markdown",
      "metadata": {
        "id": "view-in-github",
        "colab_type": "text"
      },
      "source": [
        "<a href=\"https://colab.research.google.com/github/carlosgutierrez15/Taller_4_condicionales_000502183/blob/main/Untitled1.ipynb\" target=\"_parent\"><img src=\"https://colab.research.google.com/assets/colab-badge.svg\" alt=\"Open In Colab\"/></a>"
      ]
    },
    {
      "cell_type": "markdown",
      "source": [
        "### Taller 4: Estructura selectiva doble (if-else)\n",
        "\n",
        "Carlos Gutierrez - ID: 000502183\n",
        "\n",
        "Email: carlos.gutierrezg@upb.edu.co"
      ],
      "metadata": {
        "id": "IKmcflCchP3B"
      }
    },
    {
      "cell_type": "code",
      "source": [
        "calificacion = float(input(\"ingresa tu calificacion numerica (de 0 a 5): \"))\n",
        "\n",
        "if calificacion >= 3:\n",
        "  print(\"usted a aprobado el curso, ¡felicitaciones!\")\n",
        "\n",
        "else:\n",
        "  print(\"lo siento, usted a reprobado el curso\")"
      ],
      "metadata": {
        "colab": {
          "base_uri": "https://localhost:8080/"
        },
        "id": "2fEoMFMmiLxA",
        "outputId": "70f09de1-f775-449a-ad3e-2ee15cc253fd"
      },
      "execution_count": 3,
      "outputs": [
        {
          "output_type": "stream",
          "name": "stdout",
          "text": [
            "ingresa tu calificacion numerica (de 0 a 5): 4.3\n",
            "usted a aprobado el curso, ¡felicitaciones!\n"
          ]
        }
      ]
    },
    {
      "cell_type": "code",
      "source": [
        "numero = float(input(\"ingresa un numero: \"))\n",
        "if numero >= 0:\n",
        "  print(\"el numero es positivo\")\n",
        "\n",
        "else:\n",
        "  print(\"el numero es negativo\")"
      ],
      "metadata": {
        "colab": {
          "base_uri": "https://localhost:8080/"
        },
        "id": "meHgv6b2nBXJ",
        "outputId": "66e164e6-1fae-4fbf-bbc2-a9f9c524816c"
      },
      "execution_count": 4,
      "outputs": [
        {
          "output_type": "stream",
          "name": "stdout",
          "text": [
            "ingresa un numero: 54\n",
            "el numero es positivo\n"
          ]
        }
      ]
    },
    {
      "cell_type": "code",
      "source": [
        "contraseña = input(\"ingrese tu contraseña: \")\n",
        "if contraseña == \"patacon12\":\n",
        "  print(\"la contraseña validá\")\n",
        "\n",
        "else:\n",
        "  print(\"la contraseña incorrecta\")"
      ],
      "metadata": {
        "colab": {
          "base_uri": "https://localhost:8080/"
        },
        "id": "dUeQnKDkonW7",
        "outputId": "4ce1054b-107b-411f-85c0-873704b64d28"
      },
      "execution_count": 6,
      "outputs": [
        {
          "output_type": "stream",
          "name": "stdout",
          "text": [
            "ingrese tu contraseña: patacon12\n",
            "la contraseña validá\n"
          ]
        }
      ]
    },
    {
      "cell_type": "code",
      "source": [
        "numero = float(input(\"ingresa un numero: \"))\n",
        "if numero % 2 == 0:\n",
        "  print(\"el numero es par\")\n",
        "\n",
        "else:\n",
        "  print(\"el numero es impar\")"
      ],
      "metadata": {
        "colab": {
          "base_uri": "https://localhost:8080/"
        },
        "id": "ml8RsLRxqQn5",
        "outputId": "194c4f4f-a4ba-44ee-d8b6-654427628af2"
      },
      "execution_count": 7,
      "outputs": [
        {
          "output_type": "stream",
          "name": "stdout",
          "text": [
            "ingresa un numero: 20\n",
            "el numero es par\n"
          ]
        }
      ]
    },
    {
      "cell_type": "code",
      "source": [
        "Numero1 = float(input(\"ingresa un numero: \"))\n",
        "Numero2 = float(input(\"ingresa un numero: \"))\n",
        "Numero3 = float(input(\"ingresa un numero: \"))\n",
        "Numero4 = float(input(\"ingresa un numero: \"))\n",
        "Numero5 = float(input(\"ingresa un numero: \"))\n",
        "\n",
        "mayor = Numero1\n",
        "\n",
        "if Numero2 > mayor:\n",
        "    mayor = Numero2\n",
        "\n",
        "if Numero3 > mayor:\n",
        "    mayor = Numero3\n",
        "\n",
        "if Numero4 > mayor:\n",
        "    mayor = Numero4\n",
        "\n",
        "if Numero5 > mayor:\n",
        "    mayor = Numero5\n",
        "\n",
        "else:\n",
        "  print(\"El número mayor es:\",mayor)"
      ],
      "metadata": {
        "colab": {
          "base_uri": "https://localhost:8080/"
        },
        "id": "WLs4KrgOssXR",
        "outputId": "b3f3f067-6a84-46ab-d46c-65c3d4abb967"
      },
      "execution_count": 8,
      "outputs": [
        {
          "output_type": "stream",
          "name": "stdout",
          "text": [
            "ingresa un numero: 4\n",
            "ingresa un numero: 8\n",
            "ingresa un numero: 7\n",
            "ingresa un numero: 203\n",
            "ingresa un numero: 52\n",
            "El número mayor es: 203.0\n"
          ]
        }
      ]
    },
    {
      "cell_type": "code",
      "source": [
        "edad = int(input(\"Ingrese su edad: \"))\n",
        "\n",
        "if edad <= 12:\n",
        "    categoria = \"Niño\"\n",
        "elif edad <= 19:\n",
        "    categoria = \"Adolescente\"\n",
        "elif edad <= 64:\n",
        "    categoria = \"Adulto\"\n",
        "else:\n",
        "    categoria = \"Adulto Mayor\"\n",
        "\n",
        "print(\"Usted se encuentra en la categoría:\", categoria)"
      ],
      "metadata": {
        "colab": {
          "base_uri": "https://localhost:8080/"
        },
        "id": "D6HMFvI4uvKE",
        "outputId": "9401b65b-658c-4d3f-8820-ecfa0e65a127"
      },
      "execution_count": null,
      "outputs": [
        {
          "output_type": "stream",
          "name": "stdout",
          "text": [
            "Ingrese su edad: 18\n",
            "Usted se encuentra en la categoría: Adolescente\n"
          ]
        }
      ]
    }
  ]
}